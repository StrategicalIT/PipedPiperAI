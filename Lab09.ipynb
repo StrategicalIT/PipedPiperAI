{
  "cells": [
    {
      "cell_type": "markdown",
      "metadata": {
        "id": "view-in-github",
        "colab_type": "text"
      },
      "source": [
        "<a href=\"https://colab.research.google.com/github/StrategicalIT/PipedPiperAI/blob/main/Lab09.ipynb\" target=\"_parent\"><img src=\"https://colab.research.google.com/assets/colab-badge.svg\" alt=\"Open In Colab\"/></a>"
      ]
    },
    {
      "cell_type": "markdown",
      "id": "a6cae130-b662-46d8-9b14-da63c83f8b31",
      "metadata": {
        "id": "a6cae130-b662-46d8-9b14-da63c83f8b31"
      },
      "source": [
        "# LAB 9: Full RAG solution with LlamaIndex\n",
        "In this lab we are going to build a full RAG solution using the LlamaIndex framework that leverages models from the Nvidia NIM API catalog (including LLM and embedding models). For this, you will need an API key from NVIDIA"
      ]
    },
    {
      "cell_type": "markdown",
      "id": "7fbd44bf-1c1c-4591-aeb2-7e71b3f40e65",
      "metadata": {
        "id": "7fbd44bf-1c1c-4591-aeb2-7e71b3f40e65"
      },
      "source": [
        "## Install dependencies"
      ]
    },
    {
      "cell_type": "markdown",
      "id": "9189748d-cb87-4066-83ed-8843d49e7118",
      "metadata": {
        "id": "9189748d-cb87-4066-83ed-8843d49e7118"
      },
      "source": [
        "The first step is to install the necessary libraries. This installs the core llama-index package which draws a lot of dependencies."
      ]
    },
    {
      "cell_type": "code",
      "execution_count": 1,
      "id": "fb3dbdb8-2c89-40b9-a1a5-532401e9ec5a",
      "metadata": {
        "id": "fb3dbdb8-2c89-40b9-a1a5-532401e9ec5a",
        "outputId": "5ca7744a-680a-469c-a4f6-9623bde05dc1",
        "colab": {
          "base_uri": "https://localhost:8080/"
        }
      },
      "outputs": [
        {
          "output_type": "stream",
          "name": "stdout",
          "text": [
            "Requirement already satisfied: llama-index in /usr/local/lib/python3.11/dist-packages (0.12.52)\n",
            "Requirement already satisfied: llama-index-agent-openai<0.5,>=0.4.0 in /usr/local/lib/python3.11/dist-packages (from llama-index) (0.4.12)\n",
            "Requirement already satisfied: llama-index-cli<0.5,>=0.4.2 in /usr/local/lib/python3.11/dist-packages (from llama-index) (0.4.4)\n",
            "Requirement already satisfied: llama-index-core<0.13,>=0.12.52.post1 in /usr/local/lib/python3.11/dist-packages (from llama-index) (0.12.52.post1)\n",
            "Requirement already satisfied: llama-index-embeddings-openai<0.4,>=0.3.0 in /usr/local/lib/python3.11/dist-packages (from llama-index) (0.3.1)\n",
            "Requirement already satisfied: llama-index-indices-managed-llama-cloud>=0.4.0 in /usr/local/lib/python3.11/dist-packages (from llama-index) (0.8.0)\n",
            "Requirement already satisfied: llama-index-llms-openai<0.5,>=0.4.0 in /usr/local/lib/python3.11/dist-packages (from llama-index) (0.4.7)\n",
            "Requirement already satisfied: llama-index-multi-modal-llms-openai<0.6,>=0.5.0 in /usr/local/lib/python3.11/dist-packages (from llama-index) (0.5.3)\n",
            "Requirement already satisfied: llama-index-program-openai<0.4,>=0.3.0 in /usr/local/lib/python3.11/dist-packages (from llama-index) (0.3.2)\n",
            "Requirement already satisfied: llama-index-question-gen-openai<0.4,>=0.3.0 in /usr/local/lib/python3.11/dist-packages (from llama-index) (0.3.1)\n",
            "Requirement already satisfied: llama-index-readers-file<0.5,>=0.4.0 in /usr/local/lib/python3.11/dist-packages (from llama-index) (0.4.11)\n",
            "Requirement already satisfied: llama-index-readers-llama-parse>=0.4.0 in /usr/local/lib/python3.11/dist-packages (from llama-index) (0.4.0)\n",
            "Requirement already satisfied: nltk>3.8.1 in /usr/local/lib/python3.11/dist-packages (from llama-index) (3.9.1)\n",
            "Requirement already satisfied: openai>=1.14.0 in /usr/local/lib/python3.11/dist-packages (from llama-index-agent-openai<0.5,>=0.4.0->llama-index) (1.97.1)\n",
            "Requirement already satisfied: aiohttp<4,>=3.8.6 in /usr/local/lib/python3.11/dist-packages (from llama-index-core<0.13,>=0.12.52.post1->llama-index) (3.12.14)\n",
            "Requirement already satisfied: aiosqlite in /usr/local/lib/python3.11/dist-packages (from llama-index-core<0.13,>=0.12.52.post1->llama-index) (0.21.0)\n",
            "Requirement already satisfied: banks<3,>=2.2.0 in /usr/local/lib/python3.11/dist-packages (from llama-index-core<0.13,>=0.12.52.post1->llama-index) (2.2.0)\n",
            "Requirement already satisfied: dataclasses-json in /usr/local/lib/python3.11/dist-packages (from llama-index-core<0.13,>=0.12.52.post1->llama-index) (0.6.7)\n",
            "Requirement already satisfied: deprecated>=1.2.9.3 in /usr/local/lib/python3.11/dist-packages (from llama-index-core<0.13,>=0.12.52.post1->llama-index) (1.2.18)\n",
            "Requirement already satisfied: dirtyjson<2,>=1.0.8 in /usr/local/lib/python3.11/dist-packages (from llama-index-core<0.13,>=0.12.52.post1->llama-index) (1.0.8)\n",
            "Requirement already satisfied: filetype<2,>=1.2.0 in /usr/local/lib/python3.11/dist-packages (from llama-index-core<0.13,>=0.12.52.post1->llama-index) (1.2.0)\n",
            "Requirement already satisfied: fsspec>=2023.5.0 in /usr/local/lib/python3.11/dist-packages (from llama-index-core<0.13,>=0.12.52.post1->llama-index) (2025.3.0)\n",
            "Requirement already satisfied: httpx in /usr/local/lib/python3.11/dist-packages (from llama-index-core<0.13,>=0.12.52.post1->llama-index) (0.28.1)\n",
            "Requirement already satisfied: llama-index-workflows<2,>=1.0.1 in /usr/local/lib/python3.11/dist-packages (from llama-index-core<0.13,>=0.12.52.post1->llama-index) (1.2.0)\n",
            "Requirement already satisfied: nest-asyncio<2,>=1.5.8 in /usr/local/lib/python3.11/dist-packages (from llama-index-core<0.13,>=0.12.52.post1->llama-index) (1.6.0)\n",
            "Requirement already satisfied: networkx>=3.0 in /usr/local/lib/python3.11/dist-packages (from llama-index-core<0.13,>=0.12.52.post1->llama-index) (3.5)\n",
            "Requirement already satisfied: numpy in /usr/local/lib/python3.11/dist-packages (from llama-index-core<0.13,>=0.12.52.post1->llama-index) (2.0.2)\n",
            "Requirement already satisfied: pillow>=9.0.0 in /usr/local/lib/python3.11/dist-packages (from llama-index-core<0.13,>=0.12.52.post1->llama-index) (11.3.0)\n",
            "Requirement already satisfied: platformdirs in /usr/local/lib/python3.11/dist-packages (from llama-index-core<0.13,>=0.12.52.post1->llama-index) (4.3.8)\n",
            "Requirement already satisfied: pydantic>=2.8.0 in /usr/local/lib/python3.11/dist-packages (from llama-index-core<0.13,>=0.12.52.post1->llama-index) (2.11.7)\n",
            "Requirement already satisfied: pyyaml>=6.0.1 in /usr/local/lib/python3.11/dist-packages (from llama-index-core<0.13,>=0.12.52.post1->llama-index) (6.0.2)\n",
            "Requirement already satisfied: requests>=2.31.0 in /usr/local/lib/python3.11/dist-packages (from llama-index-core<0.13,>=0.12.52.post1->llama-index) (2.32.3)\n",
            "Requirement already satisfied: setuptools>=80.9.0 in /usr/local/lib/python3.11/dist-packages (from llama-index-core<0.13,>=0.12.52.post1->llama-index) (80.9.0)\n",
            "Requirement already satisfied: sqlalchemy>=1.4.49 in /usr/local/lib/python3.11/dist-packages (from sqlalchemy[asyncio]>=1.4.49->llama-index-core<0.13,>=0.12.52.post1->llama-index) (2.0.41)\n",
            "Requirement already satisfied: tenacity!=8.4.0,<10.0.0,>=8.2.0 in /usr/local/lib/python3.11/dist-packages (from llama-index-core<0.13,>=0.12.52.post1->llama-index) (8.5.0)\n",
            "Requirement already satisfied: tiktoken>=0.7.0 in /usr/local/lib/python3.11/dist-packages (from llama-index-core<0.13,>=0.12.52.post1->llama-index) (0.9.0)\n",
            "Requirement already satisfied: tqdm<5,>=4.66.1 in /usr/local/lib/python3.11/dist-packages (from llama-index-core<0.13,>=0.12.52.post1->llama-index) (4.67.1)\n",
            "Requirement already satisfied: typing-extensions>=4.5.0 in /usr/local/lib/python3.11/dist-packages (from llama-index-core<0.13,>=0.12.52.post1->llama-index) (4.14.1)\n",
            "Requirement already satisfied: typing-inspect>=0.8.0 in /usr/local/lib/python3.11/dist-packages (from llama-index-core<0.13,>=0.12.52.post1->llama-index) (0.9.0)\n",
            "Requirement already satisfied: wrapt in /usr/local/lib/python3.11/dist-packages (from llama-index-core<0.13,>=0.12.52.post1->llama-index) (1.17.2)\n",
            "Requirement already satisfied: llama-cloud==0.1.35 in /usr/local/lib/python3.11/dist-packages (from llama-index-indices-managed-llama-cloud>=0.4.0->llama-index) (0.1.35)\n",
            "Requirement already satisfied: certifi>=2024.7.4 in /usr/local/lib/python3.11/dist-packages (from llama-cloud==0.1.35->llama-index-indices-managed-llama-cloud>=0.4.0->llama-index) (2025.7.14)\n",
            "Requirement already satisfied: beautifulsoup4<5,>=4.12.3 in /usr/local/lib/python3.11/dist-packages (from llama-index-readers-file<0.5,>=0.4.0->llama-index) (4.13.4)\n",
            "Requirement already satisfied: defusedxml>=0.7.1 in /usr/local/lib/python3.11/dist-packages (from llama-index-readers-file<0.5,>=0.4.0->llama-index) (0.7.1)\n",
            "Requirement already satisfied: pandas<2.3.0 in /usr/local/lib/python3.11/dist-packages (from llama-index-readers-file<0.5,>=0.4.0->llama-index) (2.2.2)\n",
            "Requirement already satisfied: pypdf<6,>=5.1.0 in /usr/local/lib/python3.11/dist-packages (from llama-index-readers-file<0.5,>=0.4.0->llama-index) (5.9.0)\n",
            "Requirement already satisfied: striprtf<0.0.27,>=0.0.26 in /usr/local/lib/python3.11/dist-packages (from llama-index-readers-file<0.5,>=0.4.0->llama-index) (0.0.26)\n",
            "Requirement already satisfied: llama-parse>=0.5.0 in /usr/local/lib/python3.11/dist-packages (from llama-index-readers-llama-parse>=0.4.0->llama-index) (0.6.52)\n",
            "Requirement already satisfied: click in /usr/local/lib/python3.11/dist-packages (from nltk>3.8.1->llama-index) (8.2.1)\n",
            "Requirement already satisfied: joblib in /usr/local/lib/python3.11/dist-packages (from nltk>3.8.1->llama-index) (1.5.1)\n",
            "Requirement already satisfied: regex>=2021.8.3 in /usr/local/lib/python3.11/dist-packages (from nltk>3.8.1->llama-index) (2024.11.6)\n",
            "Requirement already satisfied: aiohappyeyeballs>=2.5.0 in /usr/local/lib/python3.11/dist-packages (from aiohttp<4,>=3.8.6->llama-index-core<0.13,>=0.12.52.post1->llama-index) (2.6.1)\n",
            "Requirement already satisfied: aiosignal>=1.4.0 in /usr/local/lib/python3.11/dist-packages (from aiohttp<4,>=3.8.6->llama-index-core<0.13,>=0.12.52.post1->llama-index) (1.4.0)\n",
            "Requirement already satisfied: attrs>=17.3.0 in /usr/local/lib/python3.11/dist-packages (from aiohttp<4,>=3.8.6->llama-index-core<0.13,>=0.12.52.post1->llama-index) (25.3.0)\n",
            "Requirement already satisfied: frozenlist>=1.1.1 in /usr/local/lib/python3.11/dist-packages (from aiohttp<4,>=3.8.6->llama-index-core<0.13,>=0.12.52.post1->llama-index) (1.7.0)\n",
            "Requirement already satisfied: multidict<7.0,>=4.5 in /usr/local/lib/python3.11/dist-packages (from aiohttp<4,>=3.8.6->llama-index-core<0.13,>=0.12.52.post1->llama-index) (6.6.3)\n",
            "Requirement already satisfied: propcache>=0.2.0 in /usr/local/lib/python3.11/dist-packages (from aiohttp<4,>=3.8.6->llama-index-core<0.13,>=0.12.52.post1->llama-index) (0.3.2)\n",
            "Requirement already satisfied: yarl<2.0,>=1.17.0 in /usr/local/lib/python3.11/dist-packages (from aiohttp<4,>=3.8.6->llama-index-core<0.13,>=0.12.52.post1->llama-index) (1.20.1)\n",
            "Requirement already satisfied: griffe in /usr/local/lib/python3.11/dist-packages (from banks<3,>=2.2.0->llama-index-core<0.13,>=0.12.52.post1->llama-index) (1.9.0)\n",
            "Requirement already satisfied: jinja2 in /usr/local/lib/python3.11/dist-packages (from banks<3,>=2.2.0->llama-index-core<0.13,>=0.12.52.post1->llama-index) (3.1.6)\n",
            "Requirement already satisfied: soupsieve>1.2 in /usr/local/lib/python3.11/dist-packages (from beautifulsoup4<5,>=4.12.3->llama-index-readers-file<0.5,>=0.4.0->llama-index) (2.7)\n",
            "Requirement already satisfied: anyio in /usr/local/lib/python3.11/dist-packages (from httpx->llama-index-core<0.13,>=0.12.52.post1->llama-index) (4.9.0)\n",
            "Requirement already satisfied: httpcore==1.* in /usr/local/lib/python3.11/dist-packages (from httpx->llama-index-core<0.13,>=0.12.52.post1->llama-index) (1.0.9)\n",
            "Requirement already satisfied: idna in /usr/local/lib/python3.11/dist-packages (from httpx->llama-index-core<0.13,>=0.12.52.post1->llama-index) (3.10)\n",
            "Requirement already satisfied: h11>=0.16 in /usr/local/lib/python3.11/dist-packages (from httpcore==1.*->httpx->llama-index-core<0.13,>=0.12.52.post1->llama-index) (0.16.0)\n",
            "Requirement already satisfied: llama-index-instrumentation>=0.1.0 in /usr/local/lib/python3.11/dist-packages (from llama-index-workflows<2,>=1.0.1->llama-index-core<0.13,>=0.12.52.post1->llama-index) (0.3.0)\n",
            "Requirement already satisfied: llama-cloud-services>=0.6.52 in /usr/local/lib/python3.11/dist-packages (from llama-parse>=0.5.0->llama-index-readers-llama-parse>=0.4.0->llama-index) (0.6.52)\n",
            "Requirement already satisfied: distro<2,>=1.7.0 in /usr/local/lib/python3.11/dist-packages (from openai>=1.14.0->llama-index-agent-openai<0.5,>=0.4.0->llama-index) (1.9.0)\n",
            "Requirement already satisfied: jiter<1,>=0.4.0 in /usr/local/lib/python3.11/dist-packages (from openai>=1.14.0->llama-index-agent-openai<0.5,>=0.4.0->llama-index) (0.10.0)\n",
            "Requirement already satisfied: sniffio in /usr/local/lib/python3.11/dist-packages (from openai>=1.14.0->llama-index-agent-openai<0.5,>=0.4.0->llama-index) (1.3.1)\n",
            "Requirement already satisfied: python-dateutil>=2.8.2 in /usr/local/lib/python3.11/dist-packages (from pandas<2.3.0->llama-index-readers-file<0.5,>=0.4.0->llama-index) (2.9.0.post0)\n",
            "Requirement already satisfied: pytz>=2020.1 in /usr/local/lib/python3.11/dist-packages (from pandas<2.3.0->llama-index-readers-file<0.5,>=0.4.0->llama-index) (2025.2)\n",
            "Requirement already satisfied: tzdata>=2022.7 in /usr/local/lib/python3.11/dist-packages (from pandas<2.3.0->llama-index-readers-file<0.5,>=0.4.0->llama-index) (2025.2)\n",
            "Requirement already satisfied: annotated-types>=0.6.0 in /usr/local/lib/python3.11/dist-packages (from pydantic>=2.8.0->llama-index-core<0.13,>=0.12.52.post1->llama-index) (0.7.0)\n",
            "Requirement already satisfied: pydantic-core==2.33.2 in /usr/local/lib/python3.11/dist-packages (from pydantic>=2.8.0->llama-index-core<0.13,>=0.12.52.post1->llama-index) (2.33.2)\n",
            "Requirement already satisfied: typing-inspection>=0.4.0 in /usr/local/lib/python3.11/dist-packages (from pydantic>=2.8.0->llama-index-core<0.13,>=0.12.52.post1->llama-index) (0.4.1)\n",
            "Requirement already satisfied: charset-normalizer<4,>=2 in /usr/local/lib/python3.11/dist-packages (from requests>=2.31.0->llama-index-core<0.13,>=0.12.52.post1->llama-index) (3.4.2)\n",
            "Requirement already satisfied: urllib3<3,>=1.21.1 in /usr/local/lib/python3.11/dist-packages (from requests>=2.31.0->llama-index-core<0.13,>=0.12.52.post1->llama-index) (2.5.0)\n",
            "Requirement already satisfied: greenlet>=1 in /usr/local/lib/python3.11/dist-packages (from sqlalchemy>=1.4.49->sqlalchemy[asyncio]>=1.4.49->llama-index-core<0.13,>=0.12.52.post1->llama-index) (3.2.3)\n",
            "Requirement already satisfied: mypy-extensions>=0.3.0 in /usr/local/lib/python3.11/dist-packages (from typing-inspect>=0.8.0->llama-index-core<0.13,>=0.12.52.post1->llama-index) (1.1.0)\n",
            "Requirement already satisfied: marshmallow<4.0.0,>=3.18.0 in /usr/local/lib/python3.11/dist-packages (from dataclasses-json->llama-index-core<0.13,>=0.12.52.post1->llama-index) (3.26.1)\n",
            "Requirement already satisfied: python-dotenv<2.0.0,>=1.0.1 in /usr/local/lib/python3.11/dist-packages (from llama-cloud-services>=0.6.52->llama-parse>=0.5.0->llama-index-readers-llama-parse>=0.4.0->llama-index) (1.1.1)\n",
            "Requirement already satisfied: packaging>=17.0 in /usr/local/lib/python3.11/dist-packages (from marshmallow<4.0.0,>=3.18.0->dataclasses-json->llama-index-core<0.13,>=0.12.52.post1->llama-index) (25.0)\n",
            "Requirement already satisfied: six>=1.5 in /usr/local/lib/python3.11/dist-packages (from python-dateutil>=2.8.2->pandas<2.3.0->llama-index-readers-file<0.5,>=0.4.0->llama-index) (1.17.0)\n",
            "Requirement already satisfied: colorama>=0.4 in /usr/local/lib/python3.11/dist-packages (from griffe->banks<3,>=2.2.0->llama-index-core<0.13,>=0.12.52.post1->llama-index) (0.4.6)\n",
            "Requirement already satisfied: MarkupSafe>=2.0 in /usr/local/lib/python3.11/dist-packages (from jinja2->banks<3,>=2.2.0->llama-index-core<0.13,>=0.12.52.post1->llama-index) (3.0.2)\n"
          ]
        }
      ],
      "source": [
        "!pip install llama-index"
      ]
    },
    {
      "cell_type": "markdown",
      "id": "62e15b7a-6bd7-4e72-b7dd-e67896a57aca",
      "metadata": {
        "id": "62e15b7a-6bd7-4e72-b7dd-e67896a57aca"
      },
      "source": [
        "If you look carefully at the previous output you will notice that the only llm interface that has been installed is OpenAI. We are going to use NVIDIA NIMs including LLMs and Embedding models, so we need to install their corresponding modules.\n",
        "\n",
        "You can see what LLM modules are available in LlamaIndex in [https://docs.llamaindex.ai/en/stable/module_guides/models/llms/modules/](https://docs.llamaindex.ai/en/stable/module_guides/models/llms/modules/)"
      ]
    },
    {
      "cell_type": "code",
      "execution_count": 2,
      "id": "e79ddf20-3824-4419-88ec-9e3b8c8ae63a",
      "metadata": {
        "id": "e79ddf20-3824-4419-88ec-9e3b8c8ae63a",
        "outputId": "75e37022-4186-4f26-ab4d-125bf218849d",
        "colab": {
          "base_uri": "https://localhost:8080/"
        }
      },
      "outputs": [
        {
          "output_type": "stream",
          "name": "stdout",
          "text": [
            "Collecting llama-index-llms-nvidia\n",
            "  Downloading llama_index_llms_nvidia-0.3.6-py3-none-any.whl.metadata (4.4 kB)\n",
            "Collecting llama-index-embeddings-nvidia\n",
            "  Downloading llama_index_embeddings_nvidia-0.3.4-py3-none-any.whl.metadata (3.4 kB)\n",
            "Requirement already satisfied: llama-index-core<0.13,>=0.12.0 in /usr/local/lib/python3.11/dist-packages (from llama-index-llms-nvidia) (0.12.52.post1)\n",
            "Collecting llama-index-llms-openai-like<0.5,>=0.4.0 (from llama-index-llms-nvidia)\n",
            "  Downloading llama_index_llms_openai_like-0.4.0-py3-none-any.whl.metadata (1.1 kB)\n",
            "Requirement already satisfied: llama-index-llms-openai<0.5,>=0.4.0 in /usr/local/lib/python3.11/dist-packages (from llama-index-llms-nvidia) (0.4.7)\n",
            "Requirement already satisfied: aiohttp<4,>=3.8.6 in /usr/local/lib/python3.11/dist-packages (from llama-index-core<0.13,>=0.12.0->llama-index-llms-nvidia) (3.12.14)\n",
            "Requirement already satisfied: aiosqlite in /usr/local/lib/python3.11/dist-packages (from llama-index-core<0.13,>=0.12.0->llama-index-llms-nvidia) (0.21.0)\n",
            "Requirement already satisfied: banks<3,>=2.2.0 in /usr/local/lib/python3.11/dist-packages (from llama-index-core<0.13,>=0.12.0->llama-index-llms-nvidia) (2.2.0)\n",
            "Requirement already satisfied: dataclasses-json in /usr/local/lib/python3.11/dist-packages (from llama-index-core<0.13,>=0.12.0->llama-index-llms-nvidia) (0.6.7)\n",
            "Requirement already satisfied: deprecated>=1.2.9.3 in /usr/local/lib/python3.11/dist-packages (from llama-index-core<0.13,>=0.12.0->llama-index-llms-nvidia) (1.2.18)\n",
            "Requirement already satisfied: dirtyjson<2,>=1.0.8 in /usr/local/lib/python3.11/dist-packages (from llama-index-core<0.13,>=0.12.0->llama-index-llms-nvidia) (1.0.8)\n",
            "Requirement already satisfied: filetype<2,>=1.2.0 in /usr/local/lib/python3.11/dist-packages (from llama-index-core<0.13,>=0.12.0->llama-index-llms-nvidia) (1.2.0)\n",
            "Requirement already satisfied: fsspec>=2023.5.0 in /usr/local/lib/python3.11/dist-packages (from llama-index-core<0.13,>=0.12.0->llama-index-llms-nvidia) (2025.3.0)\n",
            "Requirement already satisfied: httpx in /usr/local/lib/python3.11/dist-packages (from llama-index-core<0.13,>=0.12.0->llama-index-llms-nvidia) (0.28.1)\n",
            "Requirement already satisfied: llama-index-workflows<2,>=1.0.1 in /usr/local/lib/python3.11/dist-packages (from llama-index-core<0.13,>=0.12.0->llama-index-llms-nvidia) (1.2.0)\n",
            "Requirement already satisfied: nest-asyncio<2,>=1.5.8 in /usr/local/lib/python3.11/dist-packages (from llama-index-core<0.13,>=0.12.0->llama-index-llms-nvidia) (1.6.0)\n",
            "Requirement already satisfied: networkx>=3.0 in /usr/local/lib/python3.11/dist-packages (from llama-index-core<0.13,>=0.12.0->llama-index-llms-nvidia) (3.5)\n",
            "Requirement already satisfied: nltk>3.8.1 in /usr/local/lib/python3.11/dist-packages (from llama-index-core<0.13,>=0.12.0->llama-index-llms-nvidia) (3.9.1)\n",
            "Requirement already satisfied: numpy in /usr/local/lib/python3.11/dist-packages (from llama-index-core<0.13,>=0.12.0->llama-index-llms-nvidia) (2.0.2)\n",
            "Requirement already satisfied: pillow>=9.0.0 in /usr/local/lib/python3.11/dist-packages (from llama-index-core<0.13,>=0.12.0->llama-index-llms-nvidia) (11.3.0)\n",
            "Requirement already satisfied: platformdirs in /usr/local/lib/python3.11/dist-packages (from llama-index-core<0.13,>=0.12.0->llama-index-llms-nvidia) (4.3.8)\n",
            "Requirement already satisfied: pydantic>=2.8.0 in /usr/local/lib/python3.11/dist-packages (from llama-index-core<0.13,>=0.12.0->llama-index-llms-nvidia) (2.11.7)\n",
            "Requirement already satisfied: pyyaml>=6.0.1 in /usr/local/lib/python3.11/dist-packages (from llama-index-core<0.13,>=0.12.0->llama-index-llms-nvidia) (6.0.2)\n",
            "Requirement already satisfied: requests>=2.31.0 in /usr/local/lib/python3.11/dist-packages (from llama-index-core<0.13,>=0.12.0->llama-index-llms-nvidia) (2.32.3)\n",
            "Requirement already satisfied: setuptools>=80.9.0 in /usr/local/lib/python3.11/dist-packages (from llama-index-core<0.13,>=0.12.0->llama-index-llms-nvidia) (80.9.0)\n",
            "Requirement already satisfied: sqlalchemy>=1.4.49 in /usr/local/lib/python3.11/dist-packages (from sqlalchemy[asyncio]>=1.4.49->llama-index-core<0.13,>=0.12.0->llama-index-llms-nvidia) (2.0.41)\n",
            "Requirement already satisfied: tenacity!=8.4.0,<10.0.0,>=8.2.0 in /usr/local/lib/python3.11/dist-packages (from llama-index-core<0.13,>=0.12.0->llama-index-llms-nvidia) (8.5.0)\n",
            "Requirement already satisfied: tiktoken>=0.7.0 in /usr/local/lib/python3.11/dist-packages (from llama-index-core<0.13,>=0.12.0->llama-index-llms-nvidia) (0.9.0)\n",
            "Requirement already satisfied: tqdm<5,>=4.66.1 in /usr/local/lib/python3.11/dist-packages (from llama-index-core<0.13,>=0.12.0->llama-index-llms-nvidia) (4.67.1)\n",
            "Requirement already satisfied: typing-extensions>=4.5.0 in /usr/local/lib/python3.11/dist-packages (from llama-index-core<0.13,>=0.12.0->llama-index-llms-nvidia) (4.14.1)\n",
            "Requirement already satisfied: typing-inspect>=0.8.0 in /usr/local/lib/python3.11/dist-packages (from llama-index-core<0.13,>=0.12.0->llama-index-llms-nvidia) (0.9.0)\n",
            "Requirement already satisfied: wrapt in /usr/local/lib/python3.11/dist-packages (from llama-index-core<0.13,>=0.12.0->llama-index-llms-nvidia) (1.17.2)\n",
            "Requirement already satisfied: openai<2,>=1.81.0 in /usr/local/lib/python3.11/dist-packages (from llama-index-llms-openai<0.5,>=0.4.0->llama-index-llms-nvidia) (1.97.1)\n",
            "Requirement already satisfied: transformers<5,>=4.37.0 in /usr/local/lib/python3.11/dist-packages (from llama-index-llms-openai-like<0.5,>=0.4.0->llama-index-llms-nvidia) (4.54.0)\n",
            "Requirement already satisfied: aiohappyeyeballs>=2.5.0 in /usr/local/lib/python3.11/dist-packages (from aiohttp<4,>=3.8.6->llama-index-core<0.13,>=0.12.0->llama-index-llms-nvidia) (2.6.1)\n",
            "Requirement already satisfied: aiosignal>=1.4.0 in /usr/local/lib/python3.11/dist-packages (from aiohttp<4,>=3.8.6->llama-index-core<0.13,>=0.12.0->llama-index-llms-nvidia) (1.4.0)\n",
            "Requirement already satisfied: attrs>=17.3.0 in /usr/local/lib/python3.11/dist-packages (from aiohttp<4,>=3.8.6->llama-index-core<0.13,>=0.12.0->llama-index-llms-nvidia) (25.3.0)\n",
            "Requirement already satisfied: frozenlist>=1.1.1 in /usr/local/lib/python3.11/dist-packages (from aiohttp<4,>=3.8.6->llama-index-core<0.13,>=0.12.0->llama-index-llms-nvidia) (1.7.0)\n",
            "Requirement already satisfied: multidict<7.0,>=4.5 in /usr/local/lib/python3.11/dist-packages (from aiohttp<4,>=3.8.6->llama-index-core<0.13,>=0.12.0->llama-index-llms-nvidia) (6.6.3)\n",
            "Requirement already satisfied: propcache>=0.2.0 in /usr/local/lib/python3.11/dist-packages (from aiohttp<4,>=3.8.6->llama-index-core<0.13,>=0.12.0->llama-index-llms-nvidia) (0.3.2)\n",
            "Requirement already satisfied: yarl<2.0,>=1.17.0 in /usr/local/lib/python3.11/dist-packages (from aiohttp<4,>=3.8.6->llama-index-core<0.13,>=0.12.0->llama-index-llms-nvidia) (1.20.1)\n",
            "Requirement already satisfied: griffe in /usr/local/lib/python3.11/dist-packages (from banks<3,>=2.2.0->llama-index-core<0.13,>=0.12.0->llama-index-llms-nvidia) (1.9.0)\n",
            "Requirement already satisfied: jinja2 in /usr/local/lib/python3.11/dist-packages (from banks<3,>=2.2.0->llama-index-core<0.13,>=0.12.0->llama-index-llms-nvidia) (3.1.6)\n",
            "Requirement already satisfied: llama-index-instrumentation>=0.1.0 in /usr/local/lib/python3.11/dist-packages (from llama-index-workflows<2,>=1.0.1->llama-index-core<0.13,>=0.12.0->llama-index-llms-nvidia) (0.3.0)\n",
            "Requirement already satisfied: click in /usr/local/lib/python3.11/dist-packages (from nltk>3.8.1->llama-index-core<0.13,>=0.12.0->llama-index-llms-nvidia) (8.2.1)\n",
            "Requirement already satisfied: joblib in /usr/local/lib/python3.11/dist-packages (from nltk>3.8.1->llama-index-core<0.13,>=0.12.0->llama-index-llms-nvidia) (1.5.1)\n",
            "Requirement already satisfied: regex>=2021.8.3 in /usr/local/lib/python3.11/dist-packages (from nltk>3.8.1->llama-index-core<0.13,>=0.12.0->llama-index-llms-nvidia) (2024.11.6)\n",
            "Requirement already satisfied: anyio<5,>=3.5.0 in /usr/local/lib/python3.11/dist-packages (from openai<2,>=1.81.0->llama-index-llms-openai<0.5,>=0.4.0->llama-index-llms-nvidia) (4.9.0)\n",
            "Requirement already satisfied: distro<2,>=1.7.0 in /usr/local/lib/python3.11/dist-packages (from openai<2,>=1.81.0->llama-index-llms-openai<0.5,>=0.4.0->llama-index-llms-nvidia) (1.9.0)\n",
            "Requirement already satisfied: jiter<1,>=0.4.0 in /usr/local/lib/python3.11/dist-packages (from openai<2,>=1.81.0->llama-index-llms-openai<0.5,>=0.4.0->llama-index-llms-nvidia) (0.10.0)\n",
            "Requirement already satisfied: sniffio in /usr/local/lib/python3.11/dist-packages (from openai<2,>=1.81.0->llama-index-llms-openai<0.5,>=0.4.0->llama-index-llms-nvidia) (1.3.1)\n",
            "Requirement already satisfied: certifi in /usr/local/lib/python3.11/dist-packages (from httpx->llama-index-core<0.13,>=0.12.0->llama-index-llms-nvidia) (2025.7.14)\n",
            "Requirement already satisfied: httpcore==1.* in /usr/local/lib/python3.11/dist-packages (from httpx->llama-index-core<0.13,>=0.12.0->llama-index-llms-nvidia) (1.0.9)\n",
            "Requirement already satisfied: idna in /usr/local/lib/python3.11/dist-packages (from httpx->llama-index-core<0.13,>=0.12.0->llama-index-llms-nvidia) (3.10)\n",
            "Requirement already satisfied: h11>=0.16 in /usr/local/lib/python3.11/dist-packages (from httpcore==1.*->httpx->llama-index-core<0.13,>=0.12.0->llama-index-llms-nvidia) (0.16.0)\n",
            "Requirement already satisfied: annotated-types>=0.6.0 in /usr/local/lib/python3.11/dist-packages (from pydantic>=2.8.0->llama-index-core<0.13,>=0.12.0->llama-index-llms-nvidia) (0.7.0)\n",
            "Requirement already satisfied: pydantic-core==2.33.2 in /usr/local/lib/python3.11/dist-packages (from pydantic>=2.8.0->llama-index-core<0.13,>=0.12.0->llama-index-llms-nvidia) (2.33.2)\n",
            "Requirement already satisfied: typing-inspection>=0.4.0 in /usr/local/lib/python3.11/dist-packages (from pydantic>=2.8.0->llama-index-core<0.13,>=0.12.0->llama-index-llms-nvidia) (0.4.1)\n",
            "Requirement already satisfied: charset-normalizer<4,>=2 in /usr/local/lib/python3.11/dist-packages (from requests>=2.31.0->llama-index-core<0.13,>=0.12.0->llama-index-llms-nvidia) (3.4.2)\n",
            "Requirement already satisfied: urllib3<3,>=1.21.1 in /usr/local/lib/python3.11/dist-packages (from requests>=2.31.0->llama-index-core<0.13,>=0.12.0->llama-index-llms-nvidia) (2.5.0)\n",
            "Requirement already satisfied: greenlet>=1 in /usr/local/lib/python3.11/dist-packages (from sqlalchemy>=1.4.49->sqlalchemy[asyncio]>=1.4.49->llama-index-core<0.13,>=0.12.0->llama-index-llms-nvidia) (3.2.3)\n",
            "Requirement already satisfied: filelock in /usr/local/lib/python3.11/dist-packages (from transformers<5,>=4.37.0->llama-index-llms-openai-like<0.5,>=0.4.0->llama-index-llms-nvidia) (3.18.0)\n",
            "Requirement already satisfied: huggingface-hub<1.0,>=0.34.0 in /usr/local/lib/python3.11/dist-packages (from transformers<5,>=4.37.0->llama-index-llms-openai-like<0.5,>=0.4.0->llama-index-llms-nvidia) (0.34.1)\n",
            "Requirement already satisfied: packaging>=20.0 in /usr/local/lib/python3.11/dist-packages (from transformers<5,>=4.37.0->llama-index-llms-openai-like<0.5,>=0.4.0->llama-index-llms-nvidia) (25.0)\n",
            "Requirement already satisfied: tokenizers<0.22,>=0.21 in /usr/local/lib/python3.11/dist-packages (from transformers<5,>=4.37.0->llama-index-llms-openai-like<0.5,>=0.4.0->llama-index-llms-nvidia) (0.21.2)\n",
            "Requirement already satisfied: safetensors>=0.4.3 in /usr/local/lib/python3.11/dist-packages (from transformers<5,>=4.37.0->llama-index-llms-openai-like<0.5,>=0.4.0->llama-index-llms-nvidia) (0.5.3)\n",
            "Requirement already satisfied: mypy-extensions>=0.3.0 in /usr/local/lib/python3.11/dist-packages (from typing-inspect>=0.8.0->llama-index-core<0.13,>=0.12.0->llama-index-llms-nvidia) (1.1.0)\n",
            "Requirement already satisfied: marshmallow<4.0.0,>=3.18.0 in /usr/local/lib/python3.11/dist-packages (from dataclasses-json->llama-index-core<0.13,>=0.12.0->llama-index-llms-nvidia) (3.26.1)\n",
            "Requirement already satisfied: hf-xet<2.0.0,>=1.1.3 in /usr/local/lib/python3.11/dist-packages (from huggingface-hub<1.0,>=0.34.0->transformers<5,>=4.37.0->llama-index-llms-openai-like<0.5,>=0.4.0->llama-index-llms-nvidia) (1.1.5)\n",
            "Requirement already satisfied: colorama>=0.4 in /usr/local/lib/python3.11/dist-packages (from griffe->banks<3,>=2.2.0->llama-index-core<0.13,>=0.12.0->llama-index-llms-nvidia) (0.4.6)\n",
            "Requirement already satisfied: MarkupSafe>=2.0 in /usr/local/lib/python3.11/dist-packages (from jinja2->banks<3,>=2.2.0->llama-index-core<0.13,>=0.12.0->llama-index-llms-nvidia) (3.0.2)\n",
            "Downloading llama_index_llms_nvidia-0.3.6-py3-none-any.whl (10 kB)\n",
            "Downloading llama_index_embeddings_nvidia-0.3.4-py3-none-any.whl (8.0 kB)\n",
            "Downloading llama_index_llms_openai_like-0.4.0-py3-none-any.whl (4.6 kB)\n",
            "Installing collected packages: llama-index-embeddings-nvidia, llama-index-llms-openai-like, llama-index-llms-nvidia\n",
            "Successfully installed llama-index-embeddings-nvidia-0.3.4 llama-index-llms-nvidia-0.3.6 llama-index-llms-openai-like-0.4.0\n"
          ]
        }
      ],
      "source": [
        "!pip install llama-index-llms-nvidia llama-index-embeddings-nvidia"
      ]
    },
    {
      "cell_type": "markdown",
      "id": "14a89838-296d-4b97-a91f-97552c4a5d0b",
      "metadata": {
        "id": "14a89838-296d-4b97-a91f-97552c4a5d0b"
      },
      "source": [
        "Now we can import the components we need for this lab."
      ]
    },
    {
      "cell_type": "code",
      "execution_count": 3,
      "id": "6ae207cd-f93f-48c5-90ef-ab838e012fe7",
      "metadata": {
        "id": "6ae207cd-f93f-48c5-90ef-ab838e012fe7"
      },
      "outputs": [],
      "source": [
        "from llama_index.core import VectorStoreIndex, SimpleDirectoryReader\n",
        "from llama_index.core import Settings\n",
        "from llama_index.llms.nvidia import NVIDIA\n",
        "from llama_index.embeddings.nvidia import NVIDIAEmbedding\n",
        "import urllib3\n",
        "urllib3.disable_warnings()"
      ]
    },
    {
      "cell_type": "markdown",
      "id": "e34e6f10-da13-4d11-9372-c022bc5fd2d1",
      "metadata": {
        "id": "e34e6f10-da13-4d11-9372-c022bc5fd2d1"
      },
      "source": [
        "## Instantiate the LLM"
      ]
    },
    {
      "cell_type": "markdown",
      "source": [
        "We need to setup the NVIDIA API key."
      ],
      "metadata": {
        "id": "hq8BAXIHi-SY"
      },
      "id": "hq8BAXIHi-SY"
    },
    {
      "cell_type": "code",
      "source": [
        "import os\n",
        "#apikey = os.environ[\"NVIDIA_API_KEY\"]\n",
        "#change from OS variable import to using Google Colab secret\n",
        "from google.colab import userdata\n",
        "apikey = userdata.get('apikey')\n",
        "os.environ[\"NVIDIA_API_KEY\"] = apikey\n",
        "#print(apikey)"
      ],
      "metadata": {
        "id": "wrhE3VMijDyn"
      },
      "id": "wrhE3VMijDyn",
      "execution_count": 4,
      "outputs": []
    },
    {
      "cell_type": "markdown",
      "id": "5202b6d7-7643-44c1-9227-6ed9a60bb325",
      "metadata": {
        "id": "5202b6d7-7643-44c1-9227-6ed9a60bb325"
      },
      "source": [
        "LlamaIndex provides a \"Settings\" object that stores the most commonly used resources in a LlamaIndex workflow, ex: llm, embed_model. It is a sort of a global storage place for all default settings. If one attribute is not provided anywhere else in the code, the \"Settings\" object will be queried. As you will see there are several default values that are assumed if not specified. This makes the code look cleaner.\n",
        "\n",
        "The following line will be sufficient to instantiate an LLM from the Nvidia NIM API if the right defaults apply."
      ]
    },
    {
      "cell_type": "code",
      "execution_count": 5,
      "id": "b46582ab-3ecc-433f-8533-e4aa557ed1b9",
      "metadata": {
        "id": "b46582ab-3ecc-433f-8533-e4aa557ed1b9"
      },
      "outputs": [],
      "source": [
        "Settings.llm = NVIDIA()"
      ]
    },
    {
      "cell_type": "markdown",
      "id": "41c5a06e-524e-4674-928d-647efa28361c",
      "metadata": {
        "id": "41c5a06e-524e-4674-928d-647efa28361c"
      },
      "source": [
        "When the parameter ```base_url``` is not explicitly defined and we are using ```NVIDIA()``` then it assumes ```base_url = \"https://integrate.api.nvidia.com/v1\"```\n",
        "\n",
        "If the parameter ```api_key``` is not omitted then it will try to read the variable ```NVIDIA_API_KEY``` from the environment\n",
        "\n",
        "Also, like in previous NIM examples, if ```model``` is not present then it will assume ```meta/llama3-8b-instruct```"
      ]
    },
    {
      "cell_type": "markdown",
      "id": "8acc0cb1-6eec-444f-b6a7-81ead015727f",
      "metadata": {
        "id": "8acc0cb1-6eec-444f-b6a7-81ead015727f"
      },
      "source": [
        "So for example, let's say you want to connect to a NIM that is running locally in your datacenter, you want to hard-code the key explicitly in your code and you want to use a Mistral model. Then, the Settings would look like this\n",
        "```\n",
        "Settings.llm = NVIDIA(\n",
        "    base_url=\"http://nim-host-address:8000/v1\",\n",
        "    api_key = \"nvapi-123456789abcdefg\",\n",
        "    model=\"mistralai/mistral-7b-instruct-v0.2\"\n",
        "```\n"
      ]
    },
    {
      "cell_type": "markdown",
      "id": "8ca8be7e-b368-4a8f-a046-52a9af901202",
      "metadata": {
        "id": "8ca8be7e-b368-4a8f-a046-52a9af901202"
      },
      "source": [
        "We can verify what model we are pointing to"
      ]
    },
    {
      "cell_type": "code",
      "execution_count": 6,
      "id": "628b9eb6-ec8d-498e-bc64-acb723dffdca",
      "metadata": {
        "id": "628b9eb6-ec8d-498e-bc64-acb723dffdca",
        "outputId": "33ee9b04-8153-4187-ce57-705f38fcc0b1",
        "colab": {
          "base_uri": "https://localhost:8080/"
        }
      },
      "outputs": [
        {
          "output_type": "stream",
          "name": "stdout",
          "text": [
            "... Using:  meta/llama3-8b-instruct\n"
          ]
        }
      ],
      "source": [
        "print(\"... Using: \", Settings.llm.model)"
      ]
    },
    {
      "cell_type": "markdown",
      "id": "bee8bce9-e03f-494d-832c-a9827084d0bd",
      "metadata": {
        "id": "bee8bce9-e03f-494d-832c-a9827084d0bd"
      },
      "source": [
        "## Load the documents"
      ]
    },
    {
      "cell_type": "markdown",
      "id": "6e729d76-c448-46c5-9284-c4845a49116d",
      "metadata": {
        "id": "6e729d76-c448-46c5-9284-c4845a49116d"
      },
      "source": [
        "Let's use \"Simple Directory Reader\" to load the documents in the \"data\" directory. The data directory could also be a mounted directory pointing to PowerScale.\n",
        "\n",
        "SimpleDirectoryReader will ingest Markdown, PDFs, Word documents, PowerPoint decks, images, audio and video from the specified directory"
      ]
    },
    {
      "cell_type": "code",
      "execution_count": 9,
      "id": "f4260f76-1fb5-4e53-ac65-5f27294c34e1",
      "metadata": {
        "id": "f4260f76-1fb5-4e53-ac65-5f27294c34e1",
        "outputId": "983c4fbd-90bd-4a36-b440-41ee3d293a3e",
        "colab": {
          "base_uri": "https://localhost:8080/"
        }
      },
      "outputs": [
        {
          "output_type": "stream",
          "name": "stdout",
          "text": [
            "--2025-07-30 05:03:14--  https://www.delltechnologies.com/asset/en-us/products/servers/technical-support/poweredge-r760xa-spec-sheet.pdf\n",
            "Resolving www.delltechnologies.com (www.delltechnologies.com)... 184.27.192.90, 2600:1409:9800:158d::3561, 2600:1409:9800:158b::3561\n",
            "Connecting to www.delltechnologies.com (www.delltechnologies.com)|184.27.192.90|:443... connected.\n",
            "HTTP request sent, awaiting response... 200 OK\n",
            "Length: 289932 (283K) [application/pdf]\n",
            "Saving to: ‘PipedPiperAIData/r760xa.pdf’\n",
            "\n",
            "PipedPiperAIData/r7 100%[===================>] 283.14K   521KB/s    in 0.5s    \n",
            "\n",
            "2025-07-30 05:03:15 (521 KB/s) - ‘PipedPiperAIData/r760xa.pdf’ saved [289932/289932]\n",
            "\n",
            "Folder 'PipedPiperAIData' created successfully!\n"
          ]
        }
      ],
      "source": [
        "import os\n",
        "\n",
        "folder_name = \"PipedPiperAIData\"\n",
        "\n",
        "# Create the folder if it doesn't exist\n",
        "os.makedirs(folder_name, exist_ok=True)\n",
        "!wget -O PipedPiperAIData/r760xa.pdf https://www.delltechnologies.com/asset/en-us/products/servers/technical-support/poweredge-r760xa-spec-sheet.pdf\n",
        "print(f\"Folder '{folder_name}' created successfully!\")"
      ]
    },
    {
      "cell_type": "markdown",
      "source": [
        "Now upload documents into the folder created in the above step. You do this via the Colab UI by clicking on the folder icon (on the left side menu), then uploading docs.\n",
        "\n",
        "Wait for the documents to **fully upload** before running the next code cell!"
      ],
      "metadata": {
        "id": "IiIcP8UNk7a5"
      },
      "id": "IiIcP8UNk7a5"
    },
    {
      "cell_type": "code",
      "source": [
        "folder_name = os.path.join(\"/content/\", folder_name)\n",
        "print(folder_name)\n",
        "documents = SimpleDirectoryReader(folder_name).load_data()\n",
        "#print(documents)"
      ],
      "metadata": {
        "id": "6qy9gpHhlcAE"
      },
      "id": "6qy9gpHhlcAE",
      "execution_count": null,
      "outputs": []
    },
    {
      "cell_type": "markdown",
      "id": "a44c997a-73ed-48fd-aaf8-404ae93b778c",
      "metadata": {
        "id": "a44c997a-73ed-48fd-aaf8-404ae93b778c"
      },
      "source": [
        "## Instantiate the embedding model"
      ]
    },
    {
      "cell_type": "markdown",
      "id": "43eb6d62-2a79-4c55-8c55-9388f1574756",
      "metadata": {
        "id": "43eb6d62-2a79-4c55-8c55-9388f1574756"
      },
      "source": [
        "We are going to use the \"Settings\" object again but this time for the embedding model. Instead of requesting a specific embed model, we leave ```model``` blank and it will select the default one for the NVIDIA module. Also, since we didn't specify ```api_key``` it will attempt to find ```NVIDIA_API_KEY``` in the environment"
      ]
    },
    {
      "cell_type": "code",
      "execution_count": null,
      "id": "e33b3df4-ddf8-45b2-8091-3a1f11e2b871",
      "metadata": {
        "id": "e33b3df4-ddf8-45b2-8091-3a1f11e2b871"
      },
      "outputs": [],
      "source": [
        "Settings.embed_model = NVIDIAEmbedding(truncate=\"END\")\n",
        "print(\"... Using embedding model: \", Settings.embed_model.model_name)"
      ]
    },
    {
      "cell_type": "markdown",
      "id": "bc80c276-a98d-489b-a8ec-48a099e482da",
      "metadata": {
        "id": "bc80c276-a98d-489b-a8ec-48a099e482da"
      },
      "source": [
        "## Create an Index"
      ]
    },
    {
      "cell_type": "markdown",
      "id": "525e2aa7-ac11-4bc2-b9aa-0d78200639b0",
      "metadata": {
        "id": "525e2aa7-ac11-4bc2-b9aa-0d78200639b0"
      },
      "source": [
        "Index is a key contruct in the LlamaIndex framework. To build it we need \"Documents\", an \"Embedding model\" and a \"Storage Context\". \"Storage Context\" is optional because when not specified, LlamaIndex uses a simple in-memory vector store that's great for quick experimentation.\n",
        "\n",
        "Notice also how we are not specifying the ```embed_model``` parameter because it is already defined in the ```Settings``` object"
      ]
    },
    {
      "cell_type": "code",
      "execution_count": null,
      "id": "a1a2cd4a-8e94-41b6-9a48-3f4faef53be3",
      "metadata": {
        "id": "a1a2cd4a-8e94-41b6-9a48-3f4faef53be3"
      },
      "outputs": [],
      "source": [
        "index = VectorStoreIndex.from_documents(documents)\n",
        "print(f\"Number of chuncks in the index: {len(index.docstore.docs)}\")\n",
        "# Assuming 'folder_name' still holds the path to your directory\n",
        "file_count = len([f for f in os.listdir(folder_name) if os.path.isfile(os.path.join(folder_name, f))])\n",
        "print(f\"Number of physical files in the folder: {file_count}\")"
      ]
    },
    {
      "cell_type": "markdown",
      "id": "1f8a69fd-f1aa-42b5-98fe-59e3c754d86d",
      "metadata": {
        "id": "1f8a69fd-f1aa-42b5-98fe-59e3c754d86d"
      },
      "source": [
        "## Build the query engine"
      ]
    },
    {
      "cell_type": "markdown",
      "id": "cda25e38-733a-4f07-bb11-64e399f36179",
      "metadata": {
        "id": "cda25e38-733a-4f07-bb11-64e399f36179"
      },
      "source": [
        "The final step is to use the \"LLM\" and the \"Index\" to build the \"Query Engine\". Thanks again to the ```Setttings``` object we don't need to specify ```llm=llm``` or ```embed_model=embed_model```"
      ]
    },
    {
      "cell_type": "code",
      "execution_count": null,
      "id": "d7c3b3f5-4666-47a3-b050-3d55552ceae6",
      "metadata": {
        "id": "d7c3b3f5-4666-47a3-b050-3d55552ceae6"
      },
      "outputs": [],
      "source": [
        "query_engine = index.as_query_engine()\n",
        "print(f\"Type of query_engine: {type(query_engine)}\")"
      ]
    },
    {
      "cell_type": "markdown",
      "id": "6d514f72-378c-4f0b-b364-e04b1d6ad275",
      "metadata": {
        "id": "6d514f72-378c-4f0b-b364-e04b1d6ad275"
      },
      "source": [
        "## Query the RAG solution"
      ]
    },
    {
      "cell_type": "markdown",
      "id": "134deb68-bf09-454b-8863-3d9f056cd5af",
      "metadata": {
        "id": "134deb68-bf09-454b-8863-3d9f056cd5af"
      },
      "source": [
        "Everything is ready to start querying our RAG solution. We use the ```.query()``` method from the ```query_engine```"
      ]
    },
    {
      "cell_type": "code",
      "execution_count": null,
      "id": "7370131d-fe54-4d4c-81bd-5db819988447",
      "metadata": {
        "id": "7370131d-fe54-4d4c-81bd-5db819988447"
      },
      "outputs": [],
      "source": [
        "response = query_engine.query(\"How many pcie slots are there in a Dell R760xa?\")\n",
        "print(response)"
      ]
    },
    {
      "cell_type": "markdown",
      "id": "5359022f-c09d-4634-90d9-a9fc39e07c39",
      "metadata": {
        "id": "5359022f-c09d-4634-90d9-a9fc39e07c39"
      },
      "source": [
        "## End of Lab 9"
      ]
    },
    {
      "cell_type": "code",
      "metadata": {
        "id": "846f1f45"
      },
      "source": [
        "import os\n",
        "\n",
        "# Assuming 'folder_name' still holds the path to your directory\n",
        "file_count = len([f for f in os.listdir(folder_name) if os.path.isfile(os.path.join(folder_name, f))])\n",
        "print(f\"Number of physical files in the folder: {file_count}\")"
      ],
      "id": "846f1f45",
      "execution_count": null,
      "outputs": []
    }
  ],
  "metadata": {
    "kernelspec": {
      "display_name": "Python 3 (ipykernel)",
      "language": "python",
      "name": "python3"
    },
    "language_info": {
      "codemirror_mode": {
        "name": "ipython",
        "version": 3
      },
      "file_extension": ".py",
      "mimetype": "text/x-python",
      "name": "python",
      "nbconvert_exporter": "python",
      "pygments_lexer": "ipython3",
      "version": "3.12.3"
    },
    "colab": {
      "provenance": [],
      "include_colab_link": true
    }
  },
  "nbformat": 4,
  "nbformat_minor": 5
}